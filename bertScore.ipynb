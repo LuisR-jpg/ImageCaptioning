{
 "cells": [
  {
   "attachments": {},
   "cell_type": "markdown",
   "metadata": {},
   "source": [
    "# Metrics analysis"
   ]
  },
  {
   "attachments": {},
   "cell_type": "markdown",
   "metadata": {},
   "source": [
    "## Utils"
   ]
  },
  {
   "cell_type": "code",
   "execution_count": 10,
   "metadata": {},
   "outputs": [],
   "source": [
    "#!pip install bert_score"
   ]
  },
  {
   "cell_type": "code",
   "execution_count": 11,
   "metadata": {},
   "outputs": [],
   "source": [
    "from transformers import BertTokenizer\n",
    "from configuration import Config\n",
    "from bert_score import score\n",
    "from models import caption\n",
    "from datasets import coco\n",
    "from PIL import Image\n",
    "import torch \n",
    "import os\n",
    "\n",
    "model_type = \"microsoft/deberta-xlarge-mnli\""
   ]
  },
  {
   "cell_type": "code",
   "execution_count": 12,
   "metadata": {},
   "outputs": [],
   "source": [
    "def create_caption_and_mask(start_token, max_length):\n",
    "    caption_template = torch.zeros((1, max_length), dtype=torch.long)\n",
    "    mask_template = torch.ones((1, max_length), dtype=torch.bool)\n",
    "\n",
    "    caption_template[:, 0] = start_token\n",
    "    mask_template[:, 0] = False\n",
    "\n",
    "    return caption_template, mask_template\n",
    "\n",
    "@torch.no_grad()\n",
    "def evaluate():\n",
    "    model.eval()\n",
    "    for i in range(config.max_position_embeddings - 1):\n",
    "        predictions = model(image, caption, cap_mask)\n",
    "        predictions = predictions[:, i, :]\n",
    "        predicted_id = torch.argmax(predictions, axis=-1)\n",
    "\n",
    "        if predicted_id[0] == 102:\n",
    "            return caption\n",
    "\n",
    "        caption[:, i+1] = predicted_id[0]\n",
    "        cap_mask[:, i+1] = False\n",
    "\n",
    "    return caption"
   ]
  },
  {
   "attachments": {},
   "cell_type": "markdown",
   "metadata": {},
   "source": [
    "## Checkpoints"
   ]
  },
  {
   "cell_type": "code",
   "execution_count": 13,
   "metadata": {},
   "outputs": [],
   "source": [
    "checkpoints = [\n",
    "    #'1685838940-0-resnet50-checkpoint.pth',\n",
    "    #'1685838940-1-resnet50-checkpoint.pth',\n",
    "    #'1685838940-2-resnet50-checkpoint.pth',\n",
    "    #'1685838940-3-resnet50-checkpoint.pth',\n",
    "    '1685838940-4-resnet50-checkpoint.pth',\n",
    "]"
   ]
  },
  {
   "attachments": {},
   "cell_type": "markdown",
   "metadata": {},
   "source": [
    "## Dataset"
   ]
  },
  {
   "cell_type": "code",
   "execution_count": 14,
   "metadata": {},
   "outputs": [],
   "source": [
    "config = Config()\n",
    "dataset = coco.build_dataset(config, mode='test')"
   ]
  },
  {
   "attachments": {},
   "cell_type": "markdown",
   "metadata": {},
   "source": [
    "## Model and evaluation"
   ]
  },
  {
   "cell_type": "code",
   "execution_count": 15,
   "metadata": {},
   "outputs": [
    {
     "name": "stdout",
     "output_type": "stream",
     "text": [
      "Checking for checkpoint.\n"
     ]
    },
    {
     "name": "stderr",
     "output_type": "stream",
     "text": [
      "c:\\Users\\lalor\\miniconda3\\envs\\pyTorch-gpu\\lib\\site-packages\\torchvision\\models\\_utils.py:208: UserWarning: The parameter 'pretrained' is deprecated since 0.13 and may be removed in the future, please use 'weights' instead.\n",
      "  warnings.warn(\n",
      "c:\\Users\\lalor\\miniconda3\\envs\\pyTorch-gpu\\lib\\site-packages\\torchvision\\models\\_utils.py:223: UserWarning: Arguments other than a weight enum or `None` for 'weights' are deprecated since 0.13 and may be removed in the future. The current behavior is equivalent to passing `weights=ResNet50_Weights.IMAGENET1K_V1`. You can also use `weights=ResNet50_Weights.DEFAULT` to get the most up-to-date weights.\n",
      "  warnings.warn(msg)\n"
     ]
    },
    {
     "name": "stdout",
     "output_type": "stream",
     "text": [
      "Loading Checkpoint 1685838940-4-resnet50-checkpoint.pth...\n",
      "Annotation 100/100"
     ]
    },
    {
     "name": "stderr",
     "output_type": "stream",
     "text": [
      "Some weights of the model checkpoint at microsoft/deberta-xlarge-mnli were not used when initializing DebertaModel: ['pooler.dense.bias', 'classifier.weight', 'pooler.dense.weight', 'classifier.bias']\n",
      "- This IS expected if you are initializing DebertaModel from the checkpoint of a model trained on another task or with another architecture (e.g. initializing a BertForSequenceClassification model from a BertForPreTraining model).\n",
      "- This IS NOT expected if you are initializing DebertaModel from the checkpoint of a model that you expect to be exactly identical (initializing a BertForSequenceClassification model from a BertForSequenceClassification model).\n"
     ]
    },
    {
     "name": "stdout",
     "output_type": "stream",
     "text": [
      "1685838940-4-resnet50-checkpoint.pth\t(tensor([0.7351, 0.7049, 0.7565, 0.7184, 0.7740, 0.7756, 0.7813, 0.7091, 0.7288,\n",
      "        0.7051, 0.5995, 0.6786, 0.6270, 0.5454, 0.6839, 0.6825, 0.6345, 0.5843,\n",
      "        0.6757, 0.7326, 0.6268, 0.7592, 0.7627, 0.7023, 0.7142, 0.5926, 0.7556,\n",
      "        0.6856, 0.6545, 0.7599, 0.7598, 0.7912, 0.7274, 0.7304, 0.6737, 0.7775,\n",
      "        0.7307, 0.6862, 0.6592, 0.7437, 0.5946, 0.6167, 0.6886, 0.7021, 0.7195,\n",
      "        0.6750, 0.7412, 0.7255, 0.7128, 0.6849, 0.6659, 0.7687, 0.6422, 0.4404,\n",
      "        0.7492, 0.6076, 0.6767, 0.6719, 0.6670, 0.7493, 0.7850, 0.6151, 0.6962,\n",
      "        0.7623, 0.6606, 0.7101, 0.6899, 0.2799, 0.2552, 0.5766, 0.2617, 0.6712,\n",
      "        0.6335, 0.7451, 0.5853, 0.6500, 0.6943, 0.7282, 0.6862, 0.7924, 0.6723,\n",
      "        0.7113, 0.6811, 0.7180, 0.7031, 0.6933, 0.6870, 0.6080, 0.7058, 0.5926,\n",
      "        0.5605, 0.6431, 0.8238, 0.6893, 0.7982, 0.8130, 0.7573, 0.7974, 0.6000,\n",
      "        0.7671]), tensor([0.5000, 0.5924, 0.5980, 0.5658, 0.8689, 0.6572, 0.7026, 0.6662, 0.6381,\n",
      "        0.5873, 0.4360, 0.5846, 0.5237, 0.5495, 0.6094, 0.6384, 0.5659, 0.6798,\n",
      "        0.5275, 0.7663, 0.7128, 0.5849, 0.6530, 0.5469, 0.6323, 0.4998, 0.6756,\n",
      "        0.7291, 0.6540, 0.6894, 0.6000, 0.5716, 0.5509, 0.6396, 0.6244, 0.6750,\n",
      "        0.5800, 0.6355, 0.6265, 0.6959, 0.5265, 0.5757, 0.5081, 0.5262, 0.7872,\n",
      "        0.7326, 0.7011, 0.6831, 0.4929, 0.6164, 0.6134, 0.7975, 0.6504, 0.5242,\n",
      "        0.6477, 0.4498, 0.4870, 0.5781, 0.5526, 0.6798, 0.5848, 0.6960, 0.5843,\n",
      "        0.5848, 0.6112, 0.6593, 0.5705, 0.3594, 0.4281, 0.6607, 0.4389, 0.6316,\n",
      "        0.5409, 0.5884, 0.4853, 0.5335, 0.6764, 0.5884, 0.5616, 0.6903, 0.5641,\n",
      "        0.5775, 0.5923, 0.5486, 0.6897, 0.6410, 0.6612, 0.6717, 0.6697, 0.5402,\n",
      "        0.4843, 0.5173, 0.8053, 0.6195, 0.8177, 0.8358, 0.6308, 0.6630, 0.6118,\n",
      "        0.5981]), tensor([0.5952, 0.6438, 0.6680, 0.6330, 0.8187, 0.7115, 0.7399, 0.6870, 0.6804,\n",
      "        0.6409, 0.5049, 0.6281, 0.5707, 0.5475, 0.6445, 0.6597, 0.5983, 0.6284,\n",
      "        0.5925, 0.7491, 0.6671, 0.6608, 0.7036, 0.6149, 0.6707, 0.5423, 0.7133,\n",
      "        0.7067, 0.6542, 0.7229, 0.6705, 0.6637, 0.6270, 0.6820, 0.6481, 0.7226,\n",
      "        0.6467, 0.6599, 0.6424, 0.7190, 0.5585, 0.5955, 0.5847, 0.6016, 0.7518,\n",
      "        0.7026, 0.7206, 0.7036, 0.5828, 0.6488, 0.6385, 0.7828, 0.6463, 0.4786,\n",
      "        0.6948, 0.5169, 0.5664, 0.6215, 0.6044, 0.7129, 0.6702, 0.6531, 0.6354,\n",
      "        0.6619, 0.6349, 0.6838, 0.6245, 0.3147, 0.3198, 0.6158, 0.3279, 0.6508,\n",
      "        0.5835, 0.6575, 0.5306, 0.5860, 0.6852, 0.6509, 0.6177, 0.7379, 0.6135,\n",
      "        0.6375, 0.6336, 0.6219, 0.6964, 0.6662, 0.6738, 0.6382, 0.6873, 0.5652,\n",
      "        0.5196, 0.5734, 0.8145, 0.6525, 0.8078, 0.8243, 0.6883, 0.7240, 0.6059,\n",
      "        0.6721]))\n"
     ]
    }
   ],
   "source": [
    "print(\"Checking for checkpoint.\")\n",
    "scores = []\n",
    "for checkpoint_path in checkpoints:\n",
    "    if checkpoint_path is None:\n",
    "        raise NotImplementedError('No model to chose from!')\n",
    "    else:\n",
    "        if not os.path.exists(checkpoint_path):\n",
    "            raise NotImplementedError('Give valid checkpoint path')\n",
    "    config.backbone = checkpoint_path.split('-')[2]\n",
    "    model,_ = caption.build_model(config)\n",
    "    print(f\"Loading Checkpoint {checkpoint_path}...\")\n",
    "    checkpoint = torch.load(checkpoint_path, map_location='cuda')\n",
    "    model.load_state_dict(checkpoint['model'])\n",
    "\n",
    "    tokenizer = BertTokenizer.from_pretrained(\"bert-base-uncased\")\n",
    "\n",
    "    start_token = tokenizer.convert_tokens_to_ids(tokenizer._cls_token)\n",
    "    end_token = tokenizer.convert_tokens_to_ids(tokenizer._sep_token)\n",
    "\n",
    "    reference, predicted = [], []\n",
    "    annotations = dataset.annot[:100]\n",
    "\n",
    "    for i, (img, cap) in enumerate(annotations):\n",
    "\n",
    "        print(f'\\rAnnotation {1 + i}/{len(annotations)}', end = '')\n",
    "\n",
    "        image = Image.open(os.path.join(config.dir, 'ImageCLEFmedical_Caption_2023_valid_images', 'valid', img))\n",
    "        image = coco.val_transform(image)\n",
    "        image = image.unsqueeze(0)\n",
    "\n",
    "        caption, cap_mask = create_caption_and_mask(start_token, config.max_position_embeddings)\n",
    "\n",
    "        output = evaluate()\n",
    "\n",
    "        result = tokenizer.decode(output[0].tolist(), skip_special_tokens=True)\n",
    "        predicted.append(result)\n",
    "        reference.append(cap)\n",
    "\n",
    "    score = score(predicted, reference, model_type=model_type, device = 'cpu')\n",
    "    print(f'{checkpoint_path}\\t{score}') # Precision, recall, F1\n",
    "    scores.append(score)"
   ]
  },
  {
   "cell_type": "code",
   "execution_count": 16,
   "metadata": {},
   "outputs": [
    {
     "data": {
      "text/plain": [
       "[(tensor([0.7351, 0.7049, 0.7565, 0.7184, 0.7740, 0.7756, 0.7813, 0.7091, 0.7288,\n",
       "          0.7051, 0.5995, 0.6786, 0.6270, 0.5454, 0.6839, 0.6825, 0.6345, 0.5843,\n",
       "          0.6757, 0.7326, 0.6268, 0.7592, 0.7627, 0.7023, 0.7142, 0.5926, 0.7556,\n",
       "          0.6856, 0.6545, 0.7599, 0.7598, 0.7912, 0.7274, 0.7304, 0.6737, 0.7775,\n",
       "          0.7307, 0.6862, 0.6592, 0.7437, 0.5946, 0.6167, 0.6886, 0.7021, 0.7195,\n",
       "          0.6750, 0.7412, 0.7255, 0.7128, 0.6849, 0.6659, 0.7687, 0.6422, 0.4404,\n",
       "          0.7492, 0.6076, 0.6767, 0.6719, 0.6670, 0.7493, 0.7850, 0.6151, 0.6962,\n",
       "          0.7623, 0.6606, 0.7101, 0.6899, 0.2799, 0.2552, 0.5766, 0.2617, 0.6712,\n",
       "          0.6335, 0.7451, 0.5853, 0.6500, 0.6943, 0.7282, 0.6862, 0.7924, 0.6723,\n",
       "          0.7113, 0.6811, 0.7180, 0.7031, 0.6933, 0.6870, 0.6080, 0.7058, 0.5926,\n",
       "          0.5605, 0.6431, 0.8238, 0.6893, 0.7982, 0.8130, 0.7573, 0.7974, 0.6000,\n",
       "          0.7671]),\n",
       "  tensor([0.5000, 0.5924, 0.5980, 0.5658, 0.8689, 0.6572, 0.7026, 0.6662, 0.6381,\n",
       "          0.5873, 0.4360, 0.5846, 0.5237, 0.5495, 0.6094, 0.6384, 0.5659, 0.6798,\n",
       "          0.5275, 0.7663, 0.7128, 0.5849, 0.6530, 0.5469, 0.6323, 0.4998, 0.6756,\n",
       "          0.7291, 0.6540, 0.6894, 0.6000, 0.5716, 0.5509, 0.6396, 0.6244, 0.6750,\n",
       "          0.5800, 0.6355, 0.6265, 0.6959, 0.5265, 0.5757, 0.5081, 0.5262, 0.7872,\n",
       "          0.7326, 0.7011, 0.6831, 0.4929, 0.6164, 0.6134, 0.7975, 0.6504, 0.5242,\n",
       "          0.6477, 0.4498, 0.4870, 0.5781, 0.5526, 0.6798, 0.5848, 0.6960, 0.5843,\n",
       "          0.5848, 0.6112, 0.6593, 0.5705, 0.3594, 0.4281, 0.6607, 0.4389, 0.6316,\n",
       "          0.5409, 0.5884, 0.4853, 0.5335, 0.6764, 0.5884, 0.5616, 0.6903, 0.5641,\n",
       "          0.5775, 0.5923, 0.5486, 0.6897, 0.6410, 0.6612, 0.6717, 0.6697, 0.5402,\n",
       "          0.4843, 0.5173, 0.8053, 0.6195, 0.8177, 0.8358, 0.6308, 0.6630, 0.6118,\n",
       "          0.5981]),\n",
       "  tensor([0.5952, 0.6438, 0.6680, 0.6330, 0.8187, 0.7115, 0.7399, 0.6870, 0.6804,\n",
       "          0.6409, 0.5049, 0.6281, 0.5707, 0.5475, 0.6445, 0.6597, 0.5983, 0.6284,\n",
       "          0.5925, 0.7491, 0.6671, 0.6608, 0.7036, 0.6149, 0.6707, 0.5423, 0.7133,\n",
       "          0.7067, 0.6542, 0.7229, 0.6705, 0.6637, 0.6270, 0.6820, 0.6481, 0.7226,\n",
       "          0.6467, 0.6599, 0.6424, 0.7190, 0.5585, 0.5955, 0.5847, 0.6016, 0.7518,\n",
       "          0.7026, 0.7206, 0.7036, 0.5828, 0.6488, 0.6385, 0.7828, 0.6463, 0.4786,\n",
       "          0.6948, 0.5169, 0.5664, 0.6215, 0.6044, 0.7129, 0.6702, 0.6531, 0.6354,\n",
       "          0.6619, 0.6349, 0.6838, 0.6245, 0.3147, 0.3198, 0.6158, 0.3279, 0.6508,\n",
       "          0.5835, 0.6575, 0.5306, 0.5860, 0.6852, 0.6509, 0.6177, 0.7379, 0.6135,\n",
       "          0.6375, 0.6336, 0.6219, 0.6964, 0.6662, 0.6738, 0.6382, 0.6873, 0.5652,\n",
       "          0.5196, 0.5734, 0.8145, 0.6525, 0.8078, 0.8243, 0.6883, 0.7240, 0.6059,\n",
       "          0.6721]))]"
      ]
     },
     "execution_count": 16,
     "metadata": {},
     "output_type": "execute_result"
    }
   ],
   "source": [
    "scores"
   ]
  },
  {
   "cell_type": "code",
   "execution_count": 25,
   "metadata": {},
   "outputs": [
    {
     "name": "stdout",
     "output_type": "stream",
     "text": [
      "tensor(0.7351)\n",
      "tensor(0.5000)\n",
      "tensor(0.5952)\n"
     ]
    }
   ],
   "source": [
    "for t in scores[0]:\n",
    "    print(torch.mean(t[0]))"
   ]
  },
  {
   "cell_type": "code",
   "execution_count": 17,
   "metadata": {},
   "outputs": [
    {
     "data": {
      "text/plain": [
       "['ct scan of the brain showing a large mass in the left frontal lobe.',\n",
       " 'transthoracic echocardiogram showing a large mass in the right atrium.',\n",
       " 'the left coronary angiogram shows the left coronary artery ( arrow ).',\n",
       " 'mri of the abdomen showing a large mass in the right atrium.',\n",
       " 'chest x - ray showing a large right - sided pleural effusion.',\n",
       " 'ct scan of the abdomen showing a large mass in the right kidney.',\n",
       " 'chest x - ray showing a large mass in the right lung.',\n",
       " 'mri brain showing a large mass in the left frontal lobe.',\n",
       " 'ct scan of the abdomen showing a large mass in the right kidney.',\n",
       " 'mri of the abdomen showing a large mass in the right kidney.',\n",
       " 'ultrasound image of the right knee showing the presence of a large cystic lesion in the right breast.',\n",
       " 'ct scan of the chest showing a large mass in the right upper lobe of the left lung.',\n",
       " 'postoperative radiograph of the right hip.',\n",
       " 'ultrasound image of the right shoulder showing a large mass in the left breast.',\n",
       " 'ct scan of the abdomen showing a large mass in the right kidney.',\n",
       " 'ct scan of the abdomen showing a large mass in the right kidney.',\n",
       " 'a ct image of the right breast showing a large mass in the right kidney.',\n",
       " 'panoramic radiograph showing a well - defined radiolucent lesion in the right mandibular body.',\n",
       " 'mri of the pelvis showing a large mass in the right breast.',\n",
       " 'ct scan of the neck showing a large mass in the left maxillary sinus.',\n",
       " 'ultrasound image of the right kidney. the arrow indicates the presence of a large, hypoechoic mass ( arrow ).',\n",
       " 'mri brain showing a large mass in the right parietal lobe.',\n",
       " 'ct scan of the abdomen showing a large mass in the right kidney.',\n",
       " 'ct scan of the neck showing a large mass in the left maxillary sinus.',\n",
       " 'chest x - ray showing a large right - sided pleural effusion.',\n",
       " 'plain abdominal x - ray showing a large mass in the right kidney.',\n",
       " 'transthoracic echocardiogram showing a large mass in the right atrium.',\n",
       " 'ct scan of the chest showing a large mass in the right lung.',\n",
       " 'ct scan of the abdomen showing a large mass in the right kidney.',\n",
       " 'ct angiography of the left coronary artery showing a large left ventricular thrombus ( arrow ).',\n",
       " 'transthoracic echocardiogram showing a large mass in the right atrium ( arrow ).',\n",
       " 'ct scan of the neck showing a large mass in the left maxillary sinus.',\n",
       " 'mri of the brain showing a large mass in the left parotid gland.',\n",
       " 'ct scan of the chest showing a large mass in the right lung.',\n",
       " 'ct scan of the chest showing a large mass in the right upper lobe of the lung.',\n",
       " 'transthoracic echocardiogram showing a large mass in the right atrium.',\n",
       " 'abdominal x - ray showing a large mass in the right kidney.',\n",
       " 'mri of the brain showing a large mass in the right parotid gland.',\n",
       " 'fluoroscopic image of the left hip showing the presence of a large mass in the right kidney.',\n",
       " 'ct scan of the brain showing a large mass in the left frontal lobe.',\n",
       " 'ct scan of the chest showing a large mass in the right lung.',\n",
       " 'pet / ct scan showing a large mass in the right upper quadrant of the left upper quadrant of the abdomen.',\n",
       " 'mri of the pelvis showing a large mass in the left thyroid lobe.',\n",
       " 'ct scan of the abdomen showing a large mass in the right kidney.',\n",
       " 'panoramic radiograph showing a well - defined radiolucent lesion in the right mandible.',\n",
       " 'panoramic radiograph showing a well - defined radiolucent lesion in the right mandible.',\n",
       " 'chest x - ray showing a large right - sided pleural effusion.',\n",
       " 'ct scan of the chest showing a large mass in the right lung.',\n",
       " 'ct scan of the neck showing a large mass in the left maxillary sinus.',\n",
       " 'mri brain showing a large hyperintense lesion in the right frontal lobe.',\n",
       " 'mri of the lumbar spine showing a large mass in the left posterior aspect of the left femur.',\n",
       " 'panoramic radiograph showing a well - defined radiolucent lesion in the right mandibular body.',\n",
       " 'x - ray of the left knee showing a well - defined radiolucent lesion in the left femur.',\n",
       " 'ultrasound image of the right breast showing a large cystic mass in the right breast. the arrow indicates the presence of a large, hypoechoic mass. the mass is seen in the left breast. the mass is seen in the left side of the right breast. the mass is seen in the left side of the right side of the right breast. the right testicle is seen in the left side of the right side of the right breast. the right side of the right breast is seen in the right side of the right side of the right breast. the right breast is seen in the right side. the right side of',\n",
       " 'ultrasound image of the right breast showing a large cystic mass in the right breast.',\n",
       " 'ultrasound image of the right breast showing a large cystic mass in the right lobe of the liver.',\n",
       " 'lateral radiograph of the pelvis showing the presence of a large mass in the left iliac fossa.',\n",
       " 'ct scan of the chest showing a large mass in the right lung.',\n",
       " 'ultrasound image of the right kidney. the arrow indicates the presence of a large, hypoechoic mass.',\n",
       " 'mri of the brain showing a large mass in the left parotid gland.',\n",
       " 'ct scan of the chest showing a large mass in the right upper lobe of the lung.',\n",
       " 'x - ray of the pelvis showing a large mass in the right upper quadrant of the abdomen.',\n",
       " 'ct scan of the chest showing a large mass in the right lung.',\n",
       " 'ct scan of the abdomen showing a large mass in the right lobe of the liver.',\n",
       " 'angiogram of the left internal carotid artery showing the left internal iliac artery ( arrow ).',\n",
       " 'angiogram of the left internal carotid artery showing a large left renal artery aneurysm ( arrow ).',\n",
       " 'a ct image of the pelvis showing a large mass in the right breast.',\n",
       " 'the angle of the angle of the angle of the angle of the angle of the angle of the angle of the angle of the angle of the angle of the angle of the angle of the angle of the angle of the angle of the angle of the angle of the angle of the angle of the angle of the angle of the angle of the angle of the angle of the angle of the angle of the angle of the angle of the angle of the angle of the angle of the femoral head. the angle of the angle of the angle between the angle of the angle of the angle of the angle of the angle of the femoral head.',\n",
       " 'the angle of the angle of the angle of the angle of the angle of the angle of the angle of the angle of the angle of the angle of the angle of the angle of the angle of the angle of the angle of the angle of the angle of the angle of the angle of the angle of the angle of the angle of the angle of the angle of the angle of the angle of the angle of the angle of the angle of the angle of the angle of the angle of the angle of the angle of the angle of the angle of the angle of the angle of the femoral head. the angle between the angle of the angle',\n",
       " 'x - ray of the left knee showing a well - defined radiolucent lesion in the left femur.',\n",
       " 'the angle of the angle of the angle of the angle of the angle of the angle of the angle of the angle of the angle of the angle of the angle of the angle of the angle of the angle of the angle of the angle of the angle of the angle of the angle of the angle of the angle of the angle of the angle of the angle of the angle of the angle of the angle of the angle of the angle of the angle of the angle of the angle of the angle of the angle of the angle of the angle of the angle of the angle of the femoral head. the angle between the angle of the angle',\n",
       " 'x - ray of the pelvis showing a large radiolucency in the left femur.',\n",
       " 'ct scan of the chest showing a large mass in the right lung.',\n",
       " 'ct scan of the neck showing a large mass in the left maxillary sinus.',\n",
       " 'ultrasound image of the right breast showing a large cystic mass in the right lobe of the liver.',\n",
       " 'ct scan of the chest showing a large mass in the right lung.',\n",
       " 'ultrasound image of the right kidney. the arrow indicates the presence of a large, hypoechoic mass.',\n",
       " 'ct scan of the neck showing a large mass in the left maxillary sinus.',\n",
       " 'mri of the brain showing a large mass in the left parietal lobe.',\n",
       " 'ct scan of the abdomen showing a large mass in the right lobe of the liver.',\n",
       " 'panoramic radiograph showing a well - defined radiolucent lesion in the right mandibular body.',\n",
       " 'ct scan of the brain showing a large mass in the left frontal lobe.',\n",
       " 'the lateral view of the right knee showing the presence of the presence of the osteolytic lesion in the left femur.',\n",
       " 'ct scan of the abdomen showing a large mass in the right kidney.',\n",
       " 'ultrasound image of the right kidney. the arrow indicates the presence of a large, hypoechoic mass in the right kidney.',\n",
       " 'transthoracic echocardiogram showing a large mass in the right atrium.',\n",
       " 'transthoracic echocardiogram showing a large mass in the right atrium.',\n",
       " 'fluoroscopic image of the left internal carotid artery. the arrow indicates the stent ( arrow ).',\n",
       " 'ultrasound image of the right kidney. the arrow indicates the presence of a large, hypoechoic mass.',\n",
       " 'mri brain showing a large mass in the left frontal lobe.',\n",
       " 'mri brain showing a large mass in the left frontal lobe.',\n",
       " 'pet / ct scan showing a large, hypodense lesion in the right upper lobe of the right upper lobe of the abdomen.',\n",
       " 'chest x - ray showing a large right - sided pleural effusion.',\n",
       " 'coronary angiogram showing the left coronary artery ( arrow ).',\n",
       " 'ct angiography of the chest showing a large left ventricular thrombus ( arrow ).',\n",
       " 'transthoracic echocardiogram showing a large mass in the right atrium ( arrow ).',\n",
       " 'chest x - ray showing a large right - sided pleural effusion.',\n",
       " 'ct scan of the chest showing a large mass in the right upper lobe of the liver.',\n",
       " 'abdominal x - ray showing a large right - sided pleural effusion.',\n",
       " 'transthoracic echocardiogram showing a large mass in the right atrium ( arrow ).']"
      ]
     },
     "execution_count": 17,
     "metadata": {},
     "output_type": "execute_result"
    }
   ],
   "source": [
    "predicted"
   ]
  },
  {
   "cell_type": "code",
   "execution_count": 18,
   "metadata": {},
   "outputs": [
    {
     "data": {
      "text/plain": [
       "['Parenchymal hemorrhage. 43-year-old man with COVID-19 transferred to ICU, developed acute myocardial infarction, and received thrombolytic therapy. He suddenly deteriorated and was found with bilaterally fixed and dilated pupils. Axial non-contrast CT of the brain revealed acute subdural hemorrhage, large occipito-parietal intraparenchymal hematoma with blood-fluid level (arrow)',\n",
       " 'Parasternal short axis. Origins of the coronary arteries with dilation of the anterior descendent artery (white arrow).',\n",
       " 'Coronary angiography. Multiple coronary aneurysms on the anterior descending artery (stop flow, thrombosis process in progress: red arrow) and on the circumflex artery (white arrows).',\n",
       " '(A) Invasive haemodynamic measurement of right and left ventricular pressure with inconclusive interventricular interdependence. (B) Four-chamber cardiac magnetic resonance imaging image demonstrating moderate pericardial effusion and thickening of the pericardium.',\n",
       " 'Chest X-ray: patchy bilateral infiltrates.',\n",
       " 'CT abdomen pelvis coronal view: large right-sided retroperitoneal hematoma extending along the psoas musculature and the lateral abdominal wall.',\n",
       " 'The chest radiography (anteroposterior view) shows bilateral pulmonary opacities (arrows).',\n",
       " 'brain magnetic resonance imaging (MRI) shows brain metastasis (arrow)',\n",
       " 'Follow-up computed tomography on Day 11. Thrombus in left iliac vein had disappeared (red dotted line).',\n",
       " 'T2 Weighted STIR image shows high signal intensity mass at lateral part of RA wall (white arrows).',\n",
       " 'Transverse ultrasound view of the carpal tunnel, with ulnar on the left, at the level of the hook of hamate (HH). The device is positioned in the transverse safe zone (TSZ) between the median nerve (MN) radially and the hook of the hamate ulnarly. The balloons, filled with sterile saline, have been deployed to create space in the TSZ. In this view, the blade is seen in cross-section (double asterisk), appearing as a bright dot above the transverse carpal ligamen. UA = ulnar artery, ThM = thenar muscles, FT = flexor tendons',\n",
       " 'New hypoattenuation, enlargement, and stranding of the right adrenal gland showing acute-to-subacute hemorrhage',\n",
       " 'Placement of Metapex in the canal',\n",
       " 'Two PEEK clips over the bar for pick up',\n",
       " 'CT abdomen pelvis on admission.Axial slice of CT abdomen pelvis on admission demonstrating air fluid level within gallbladder.',\n",
       " 'CT abdomen pelvis on admission.Coronal slice of CT abdomen pelvis with visible ectopic gallstone and cholechoduodenal fistula.',\n",
       " 'Mid-modiolar section of the post-implantation UHRCT of participant #12 indicating scala tympani placement of the electrode array',\n",
       " 'Postoperative radiograph after one year.',\n",
       " 'Pelvic MRISagittal\\xa0section\\xa0of MRI pelvis showing enlarged uterus with multiple small cysts within the myometrium (white arrows). The endometrial cavity is highlighted by the blue arrow, which shows thickened endometrium.',\n",
       " 'CT scan shows a lytic lesion with a tooth.',\n",
       " 'Ultrasound image of hip arthroplasty with color Doppler for identification of the circumflex artery.',\n",
       " 'Post-operative MRI control shows complete excision of the mass (C coronal T2WI) re-expansion of the temporal lobe.',\n",
       " 'Abdominal CT scan axial image shows a maximum dilatation of 9.5 cm at the transverse colon and sigmoid (yellow arrows)',\n",
       " 'A CT scan showing the bases of the lateral four metatarsals and their respective coalitions with the cuboid, lateral, and intermediate cuneiforms.',\n",
       " 'Chest X-ray. Chest X-ray with diffuse alveolo-interstitial syndrome (arrow head) in our patients implanted with a total artificial heart (star).',\n",
       " ' Upper gastrointestinal investigation after laparoscopic duodenojejunostomy. Gastrografin passed from the duodenum into the jejunum through the anastomosis.',\n",
       " 'Mid-oesophageal two-chamber view showing the result of the procedure with residual mild mitral regurgitation.',\n",
       " 'CT scan of the chest with IV contrast',\n",
       " 'Posttreatment CT showing no residual pancreatic tumor',\n",
       " 'The patient’s cardiac computed tomography angiogram (cCTA) demonstrates the slit-like ostial right coronary artery compression or vasospasm between the green arrows.',\n",
       " 'Echocardiography demonstrating the left ventricle with a hypokinetic apex with ballooning as denoted by the top arrow. Basal segments contract toward each other, as denoted by the bottom arrow. These forms the typical “octopus-pot” appearance.',\n",
       " 'Axial CT imaging demonstrates a solid nonhomogeneous tumour that completely fills the right maxillary sinus, destroying the medial and dorsolateral wall of the sinus and the base of the right orbit. The CT images are published with the permission of the Radiology Department, The Hospital of České Budějovice, Czech Republic.',\n",
       " 'Follow-up MR imaging demonstrates a postresection cavity without tumour residue or recurrence in the right maxilla (5 years after surgical treatment). Coronal imaging in T1 weighting after contrast agent administration.',\n",
       " 'CT Chest Showing Small, Localized Ground-Glass Opacities in the Lung Peripheries',\n",
       " 'CT Chest Showing Heavy Opaque Consolidation and Marked Septal Thickening',\n",
       " 'Transesophageal echocardiogram after mitral annuloplasty. There was no residual mitral regurgitation.',\n",
       " 'Anterior–posterior erect abdominal radiograph showing a large balloon seen in the middle of the abdomen with air/fluid level. No features of intestinal obstruction or perforation. No abnormal abdominal calcifications are noted.',\n",
       " 'Example of a symptomatic case (n=3 previous ICH) with multiple cerebellar hemorrhages.',\n",
       " 'Follow-up ERCP after almost 6 months showing an intact principal pancreatic duct.',\n",
       " 'Brain computed tomography. Longitudinal section: left subdural hematoma.',\n",
       " 'CT PE. Bilateral PE.PE,\\xa0pulmonary embolism.',\n",
       " 'Coronal FDG PET-CT: PET-CT using F-FDG was performed in the context of a possible infection which revealed intense activity at the junction of L5-S1 and the surrounding tissue.',\n",
       " 'Sagittal contrast MRI in T1 weighting: A medullar bone oedema is seen on either side of the L5-S1 disk. Small collections surround L5-S1 with the largest being 20mm in diameter located on the left psoas muscle with a wall that was intensified by the contrast. This abscess extends posteriorly to the anterior peridural space, the lumbar vertebral bodies, and the last thoracic vertebra.',\n",
       " 'Sagittal contrast CT: Contrast CT-scan showing spondylodiscitis of L5-S1, with infiltration into the soft tissue surrounding S1. Additionally, a 9.7cm fistula can be seen, starting at the intervertebral disk of L5-S1 (yellow arrow) to the vagina.',\n",
       " 'Orthopantomography showing foreign body in the left external auditory canal.',\n",
       " 'Previous orthopantomography showing no object in the left auditory canal.',\n",
       " 'A plain film radiograph of the chest revealing cardiomegaly with a left lower lobe opacity versus mass outlined by arrows.',\n",
       " 'A computed tomography angiogram revealing the large pericardial cyst in an axial cut outlined by the arrows.',\n",
       " 'Computed tomography scan at the level of C5 showing cervical transversospinales with fractures. Bone wax was embedded within the transverse foramen via the fractured portion. However, some of the bone wax leaked from the transversospinales; therefore, gauze compression was essential. Gauze (white arrowhead) and bone wax (black arrowhead)',\n",
       " 'bilateral and symmetrical flair hyperintensity on the dorsomedial thalami',\n",
       " 'Gadolinium-enhanced magnetic resonance image after 21 days of skipped laminotomy. The abscess of the thoracic spine has almost disappeared and the volume of the epidural abscess in the lumbar spine has markedly decreased.',\n",
       " 'preoperative orthopantomography showing an oval radiolucent lesion in mandible',\n",
       " 'Characteristic curvilinear configuration of the proximal tibia seen with PTMF.',\n",
       " 'B-mode ultrasonographic image in the transverse plane of the right jugular vein in a donkey at the middle of the neck shows the depth (D), superficial wall thickness (SWT), longitudinal diameter (LD), and deep wall thickness (DWT)',\n",
       " 'B-mode ultrasonographic image in the longitudinal plane of the right jugular vein in a donkey at the middle third of the neck shows a vein valve (arrow)',\n",
       " 'Huge TTW nodule extending into a prominent posterior horn (arrowheads). Note the thyroid parenchyma extending along the cranial portion of the nodule (arrowheads) but not along the caudal portion (arrow) arguing for a pre-existing posterior horn. A pre-existing posterior horn may have channeled the way for nodule growth causing its taller than wide shape. The nodule was benign at cytology.',\n",
       " 'Lateral X ray of the skull in participant 6. The electrode tip are at center, the connecting pins to the right of center, with amplifiers and finally the power induction coils (that appear to be floating). Three pairs of the eight pairs of electrodes wires are attached to three sets of connecting pins that are attached to three electronic amplifiers and FM transmitters.',\n",
       " 'A case of empyema. The dislocated gastric conduit (arrow) with pleural fluid collection and pulmonary atelectasis is seen in the right pleural cavity',\n",
       " 'An example image of point shear wave elastography assessment in the right liver lobe in a 36-year-old woman with pulmonary arterial hypertension.The region of interest was placed at a depth of 4.2 cm from the skin surface, and a shear wave velocity of 2.93 m/s was obtained.',\n",
       " 'Magnetic resonance imaging showing an enlarged prostate with increasing signal of the parenchyma on T2-weighted imaging.',\n",
       " 'A chest CT scan, an axial view of lung window, showing cystic changes strongly consistent with bronchiectasis in lower lobes. (A = Anterior, P = Posterior, R = Right, L = Left).',\n",
       " 'An upper gastrointestinal study, consistent with severe reflux.',\n",
       " 'Axial chest CT image without contrast administration showed areas of ground-glass opacities and bilateral consolidations with the predominantly peripheral location.',\n",
       " ' Axial computed tomography of a 60-year-old man showing a large abscess in segment IV of the liver near the porta hepatis. Note the duct dilation (arrows) that resulted from rupture of the abscess into the central bile ducts. He was managed with catheter drainage. Bilious fluid draining through the catheter was observed for several weeks in this patient.',\n",
       " 'Persistent lack of contrast filling of the left upper lobe artery as well as presenting of the central re-thrombosis (red arrow) after surgery (PEA).',\n",
       " 'Angiography of the right pulmonary artery with webs of the apico-posterior artery of the upper lobe as well as peripheral.',\n",
       " 'CT-guided 16-gauge core biopsy of right upper lobe lung mass soft tissue component was obtained',\n",
       " 'A post-operative standing mechanical axis radiograph demonstrating varus malunion of the anterior closing wedge osteotomy',\n",
       " 'A post-operative standing mechanical axis radiograph after revision osteotomy and ACL reconstruction demonstrating neutral alignment',\n",
       " 'An AP radiograph showing the healed osteotomy',\n",
       " 'A pre-operative standing mechanical axis radiograph demonstrating slight native varus alignment',\n",
       " 'A 6-week post-operative radiograph demonstrating varus collapse of the osteotomy',\n",
       " \"Predominantly central patchy and confluent ground-glass and interstitial opacities (arrows). This pattern is nonspecific but, given the patient's history, is favored to represent alveolar hemorrhage secondary to vasculitis.\",\n",
       " 'Scannographic presentation of the right submandibular mass showing high enhancement after injection of the contrast product.Contrasted areas (blue arrow)',\n",
       " 'Myometrial thickness (red line) in early pregnancy was 7\\u2009mm in case no. 5 from group B, which had a normal placenta during late pregnancy',\n",
       " 'CT pulmonary angiography showing pulmonary infarction. CT-Computed tomography',\n",
       " 'Ultrasound scan of left testicle revealing 2 cm extra-testicular lesion with multiple fluid-filled loculations',\n",
       " 'CT showing enlarged heterogeneous right parotid gland. CT:\\xa0computed tomography',\n",
       " 'MRI showing infiltration of the overlying subcutaneous tissue - image 2MRI: magnetic resonance imaging',\n",
       " 'CT scan image of the abdomen without contrast showing resolution of the pancreatic mass after allopurinol therapy.',\n",
       " 'Patient, 11 y.o.: Panoramic reconstruction from CBCT examination. Rarefication of cancellous bone in the apical region of tooth 35 with apical resorption and the appearance of “floating in the air”.',\n",
       " 'Head CT findings compatible with acute subarachnoid hemorrhage involving portions of the suprasellar, interpeduncular, and prepontine cisterns.',\n",
       " 'Oct-optic (cassia) examination of the left eye revealed that the central cornea was swollen and cloudy up to a ½ depth.',\n",
       " 'CT of the abdomen and pelvis revealed abnormal thickening of the sigmoid colon (yellow arrow).Initial workup for lower abdominal pain and intermittent hematochezia revealed a thickened rectosigmoid with a broad differential diagnosis.CT: computed tomography',\n",
       " \"Ultrasound of abdomen. Ultrasonography of the patient's abdomen revealed splenomegaly. The blue arrow is pointing towards the spleen. The dotted line shows the entire extent of the spleen.\",\n",
       " 'TEE of tricuspid valve with no evidence of vegetations.',\n",
       " 'TEE with fibrinous attachments seen fluttering during study in the right atrium.',\n",
       " 'The stent (arrowhead) insertion was confirmed.',\n",
       " 'Transabdominal midline sagittal ultrasound image showing the presence of suture material in the endocervical canal after polypectomy.',\n",
       " 'MRI—fluid attenuated inversion recovery (FLAIR) sequence.',\n",
       " 'MRI—susceptibility weighted imaging (SWI) sequence.',\n",
       " ' Sixty-two-year-old female with metastatic pancreatic neuroendocrine neoplasm. Coronal fused Gallium-68 1,4,7,10-tetraazacyclododecane-1,4,7,10-tetraacetic acid–octreotate (DOTATATE) positron emission tomography/computed tomography shows a large soft tissue mass in the pancreatic head with intensely avid DOTATATE uptake. Note the subtle metastatic lesion in the pericardium (short arrow) along the left atrium.',\n",
       " 'Chest x-ray showed presence of a large anterior mediastinal mass with cardiomegaly.',\n",
       " 'Left ventriculography showing a large left ventricular infero-basal aneurysm with a 2.8 cm neck.',\n",
       " 'Cardiac computed tomography with angiography of the chest showing a large left true ventricular aneurysm.',\n",
       " 'Transesophageal echocardiogram showing a large left ventricular aneurysm.',\n",
       " 'Chest x-ray, AP view, showing increased interstitial lung markings bilaterally.Anteroposterior (AP)',\n",
       " 'Non-contrast CT imaging of the chest revealed a multinodular (‘patchy’) pattern of the lesions in the hepatic parenchyma.',\n",
       " 'Barium swallow showed “Bird beak sign” suggestive of achalasia.',\n",
       " 'Transesophageal Echocardiogram (TEE) with yellow circle showing the RLIAS with evidence of PFO RLIAS: right-to-left interatrial shunt; PFO: patent foramen ovale']"
      ]
     },
     "execution_count": 18,
     "metadata": {},
     "output_type": "execute_result"
    }
   ],
   "source": [
    "reference"
   ]
  }
 ],
 "metadata": {
  "kernelspec": {
   "display_name": "Python 3",
   "language": "python",
   "name": "python3"
  },
  "language_info": {
   "codemirror_mode": {
    "name": "ipython",
    "version": 3
   },
   "file_extension": ".py",
   "mimetype": "text/x-python",
   "name": "python",
   "nbconvert_exporter": "python",
   "pygments_lexer": "ipython3",
   "version": "3.9.16"
  },
  "toc": {
   "base_numbering": 1,
   "nav_menu": {},
   "number_sections": true,
   "sideBar": true,
   "skip_h1_title": false,
   "title_cell": "Table of Contents",
   "title_sidebar": "Contents",
   "toc_cell": false,
   "toc_position": {},
   "toc_section_display": true,
   "toc_window_display": false
  }
 },
 "nbformat": 4,
 "nbformat_minor": 2
}
